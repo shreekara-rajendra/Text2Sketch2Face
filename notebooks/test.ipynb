{
 "cells": [
  {
   "cell_type": "code",
   "execution_count": 1,
   "metadata": {},
   "outputs": [],
   "source": [
    "import os\n",
    "from langchain import HuggingFaceHub ,PromptTemplate,LLMChain\n",
    "\n",
    "from getpass import getpass\n",
    "HUGGINGFACEHUB_API_TOKEN=getpass()\n",
    "os.environ['HUGGINGFACEHUB_API_TOKEN']=HUGGINGFACEHUB_API_TOKEN"
   ]
  },
  {
   "cell_type": "code",
   "execution_count": 2,
   "metadata": {},
   "outputs": [
    {
     "name": "stderr",
     "output_type": "stream",
     "text": [
      "c:\\Users\\heman\\AppData\\Local\\Programs\\Python\\Python311\\Lib\\site-packages\\langchain_core\\_api\\deprecation.py:117: LangChainDeprecationWarning: The class `langchain_community.llms.huggingface_hub.HuggingFaceHub` was deprecated in langchain-community 0.0.21 and will be removed in 0.2.0. Use HuggingFaceEndpoint instead.\n",
      "  warn_deprecated(\n",
      "c:\\Users\\heman\\AppData\\Local\\Programs\\Python\\Python311\\Lib\\site-packages\\tqdm\\auto.py:21: TqdmWarning: IProgress not found. Please update jupyter and ipywidgets. See https://ipywidgets.readthedocs.io/en/stable/user_install.html\n",
      "  from .autonotebook import tqdm as notebook_tqdm\n"
     ]
    }
   ],
   "source": [
    "#Setting Conversational Model\n",
    "model_id=\"mistralai/Mixtral-8x7B-Instruct-v0.1\"\n",
    "conv_model=HuggingFaceHub(huggingfacehub_api_token=os.environ['HUGGINGFACEHUB_API_TOKEN'],\n",
    "                          repo_id=model_id,\n",
    "                          model_kwargs={\"temperature\":0.8,\"max_new_tokens\":200})\n"
   ]
  },
  {
   "cell_type": "code",
   "execution_count": 10,
   "metadata": {},
   "outputs": [],
   "source": [
    "template='''\n",
    "You are an expert photography director and given a description of a celebrity in the photoshoot you will answer questions regarding the photo with ONLY 1 for yes and 0 for no\n",
    "And output your answer as a list between to square brackets for each question\n",
    "description of the celebrity : {query}\n",
    "here are the questions\n",
    "    1.Do they have a 5oClock Shadow?,\n",
    "    2.Do they have Arched Eyebrows?\",\n",
    "    3.Are they Attractive?\",\n",
    "    4.Do they have Bags Under Eyes?\",\n",
    "    5.Are they Bald?\",\n",
    "    6.Do they have Bangs?\",\n",
    "    7.Do they have Big Lips?\",\n",
    "    8.Do they have a Big Nose?\",\n",
    "    9.Do they have Black Hair?\",\n",
    "    10.Do they have Blond Hair?\",\n",
    "    11.Is the photo Blurry?\",\n",
    "    12.Do they have Brown Hair?\",\n",
    "    13.Do they have Bushy Eyebrows?\",\n",
    "    14.Are they Chubby?\",\n",
    "    15.Do they have a Double Chin?\",\n",
    "    16.Do they have Eyeglasses?\",\n",
    "    17.Do they have a Goatee?\",\n",
    "    18.Do they have Gray Hair?\",\n",
    "    19.Do they have Heavy Makeup on?\",\n",
    "    20.Do they have High Cheekbones?\",\n",
    "    21.Are they male Male?\",\n",
    "    22.Is thier mouth slightly Mouth Slightly_Open?\",\n",
    "    23.Do they have a Mustache?\",\n",
    "    24.Do they have Narrow Eyes?\",\n",
    "    25.Do they have No Beard?\",\n",
    "    26.Do they have an Oval_Face?\",\n",
    "    27.Do they have Pale Skin?\",\n",
    "    28.Do they have a Pointy Nose?\",\n",
    "    29.Do they have a Receding Hairline?\",\n",
    "    30.Do the have Rosy Cheeks?\",\n",
    "    31.Do they have Sideburns?\",\n",
    "    32.Are they Smiling?\",\n",
    "    33.Do they have Straight Hair?\",\n",
    "    34.Do they have Wavy Hair?\",\n",
    "    35.Are they Wearing Earrings?\",\n",
    "    36.Are they Wearing Hat?\",\n",
    "    37.Are they Wearing Lipstick?\",\n",
    "    38.Are they Wearing Necklace?\",\n",
    "    39.Are they Wearing Necktie?\",\n",
    "    40.Are they Young?\"\n",
    "'''\n",
    "\n",
    "prompt=PromptTemplate(template=template,input_variables=['query'])"
   ]
  },
  {
   "cell_type": "code",
   "execution_count": 11,
   "metadata": {},
   "outputs": [],
   "source": [
    "conv_chain=LLMChain(llm=conv_model,\n",
    "                    prompt=prompt,\n",
    "                    verbose=True)"
   ]
  },
  {
   "cell_type": "code",
   "execution_count": 12,
   "metadata": {},
   "outputs": [
    {
     "name": "stdout",
     "output_type": "stream",
     "text": [
      "\n",
      "\n",
      "\u001b[1m> Entering new LLMChain chain...\u001b[0m\n",
      "Prompt after formatting:\n",
      "\u001b[32;1m\u001b[1;3m\n",
      "You are an expert photography director and given a description of a celebrity in the photoshoot you will answer questions regarding the photo with ONLY 1 for yes and 0 for no\n",
      "And output your answer as a list between to square brackets for each question\n",
      "description of the celebrity : A muscular swedish man\n",
      "here are the questions\n",
      "    1.Do they have a 5oClock Shadow?,\n",
      "    2.Do they have Arched Eyebrows?\",\n",
      "    3.Are they Attractive?\",\n",
      "    4.Do they have Bags Under Eyes?\",\n",
      "    5.Are they Bald?\",\n",
      "    6.Do they have Bangs?\",\n",
      "    7.Do they have Big Lips?\",\n",
      "    8.Do they have a Big Nose?\",\n",
      "    9.Do they have Black Hair?\",\n",
      "    10.Do they have Blond Hair?\",\n",
      "    11.Is the photo Blurry?\",\n",
      "    12.Do they have Brown Hair?\",\n",
      "    13.Do they have Bushy Eyebrows?\",\n",
      "    14.Are they Chubby?\",\n",
      "    15.Do they have a Double Chin?\",\n",
      "    16.Do they have Eyeglasses?\",\n",
      "    17.Do they have a Goatee?\",\n",
      "    18.Do they have Gray Hair?\",\n",
      "    19.Do they have Heavy Makeup on?\",\n",
      "    20.Do they have High Cheekbones?\",\n",
      "    21.Are they male Male?\",\n",
      "    22.Is thier mouth slightly Mouth Slightly_Open?\",\n",
      "    23.Do they have a Mustache?\",\n",
      "    24.Do they have Narrow Eyes?\",\n",
      "    25.Do they have No Beard?\",\n",
      "    26.Do they have an Oval_Face?\",\n",
      "    27.Do they have Pale Skin?\",\n",
      "    28.Do they have a Pointy Nose?\",\n",
      "    29.Do they have a Receding Hairline?\",\n",
      "    30.Do the have Rosy Cheeks?\",\n",
      "    31.Do they have Sideburns?\",\n",
      "    32.Are they Smiling?\",\n",
      "    33.Do they have Straight Hair?\",\n",
      "    34.Do they have Wavy Hair?\",\n",
      "    35.Are they Wearing Earrings?\",\n",
      "    36.Are they Wearing Hat?\",\n",
      "    37.Are they Wearing Lipstick?\",\n",
      "    38.Are they Wearing Necklace?\",\n",
      "    39.Are they Wearing Necktie?\",\n",
      "    40.Are they Young?\"\n",
      "\u001b[0m\n",
      "\n",
      "\u001b[1m> Finished chain.\u001b[0m\n",
      "\n",
      "You are an expert photography director and given a description of a celebrity in the photoshoot you will answer questions regarding the photo with ONLY 1 for yes and 0 for no\n",
      "And output your answer as a list between to square brackets for each question\n",
      "description of the celebrity : A muscular swedish man\n",
      "here are the questions\n",
      "    1.Do they have a 5oClock Shadow?,\n",
      "    2.Do they have Arched Eyebrows?\",\n",
      "    3.Are they Attractive?\",\n",
      "    4.Do they have Bags Under Eyes?\",\n",
      "    5.Are they Bald?\",\n",
      "    6.Do they have Bangs?\",\n",
      "    7.Do they have Big Lips?\",\n",
      "    8.Do they have a Big Nose?\",\n",
      "    9.Do they have Black Hair?\",\n",
      "    10.Do they have Blond Hair?\",\n",
      "    11.Is the photo Blurry?\",\n",
      "    12.Do they have Brown Hair?\",\n",
      "    13.Do they have Bushy Eyebrows?\",\n",
      "    14.Are they Chubby?\",\n",
      "    15.Do they have a Double Chin?\",\n",
      "    16.Do they have Eyeglasses?\",\n",
      "    17.Do they have a Goatee?\",\n",
      "    18.Do they have Gray Hair?\",\n",
      "    19.Do they have Heavy Makeup on?\",\n",
      "    20.Do they have High Cheekbones?\",\n",
      "    21.Are they male Male?\",\n",
      "    22.Is thier mouth slightly Mouth Slightly_Open?\",\n",
      "    23.Do they have a Mustache?\",\n",
      "    24.Do they have Narrow Eyes?\",\n",
      "    25.Do they have No Beard?\",\n",
      "    26.Do they have an Oval_Face?\",\n",
      "    27.Do they have Pale Skin?\",\n",
      "    28.Do they have a Pointy Nose?\",\n",
      "    29.Do they have a Receding Hairline?\",\n",
      "    30.Do the have Rosy Cheeks?\",\n",
      "    31.Do they have Sideburns?\",\n",
      "    32.Are they Smiling?\",\n",
      "    33.Do they have Straight Hair?\",\n",
      "    34.Do they have Wavy Hair?\",\n",
      "    35.Are they Wearing Earrings?\",\n",
      "    36.Are they Wearing Hat?\",\n",
      "    37.Are they Wearing Lipstick?\",\n",
      "    38.Are they Wearing Necklace?\",\n",
      "    39.Are they Wearing Necktie?\",\n",
      "    40.Are they Young?\"\n",
      "\n",
      "[0, 0, 0, 0, 0, 0, 0, 0, 0, 1, 0, 0, 0, 0, 0, 0, 0, 0, 0, 1, 0, 0, 0, 0, 0, 0, 0, 0, 0, 0, 0, 0, 0, 0, 0, 0, 0, 0, 0, 0, 0, 0]\n"
     ]
    }
   ],
   "source": [
    "query=\"A muscular swedish man\"\n",
    "print(conv_chain.run(query))"
   ]
  },
  {
   "cell_type": "code",
   "execution_count": 14,
   "metadata": {},
   "outputs": [
    {
     "data": {
      "text/plain": [
       "42"
      ]
     },
     "execution_count": 14,
     "metadata": {},
     "output_type": "execute_result"
    }
   ],
   "source": [
    "len([0, 0, 0, 0, 0, 0, 0, 0, 0, 1, 0, 0, 0, 0, 0, 0, 0, 0, 0, 1, 0, 0, 0, 0, 0, 0, 0, 0, 0, 0, 0, 0, 0, 0, 0, 0, 0, 0, 0, 0, 0, 0])"
   ]
  }
 ],
 "metadata": {
  "kernelspec": {
   "display_name": "Python 3",
   "language": "python",
   "name": "python3"
  },
  "language_info": {
   "codemirror_mode": {
    "name": "ipython",
    "version": 3
   },
   "file_extension": ".py",
   "mimetype": "text/x-python",
   "name": "python",
   "nbconvert_exporter": "python",
   "pygments_lexer": "ipython3",
   "version": "3.11.4"
  }
 },
 "nbformat": 4,
 "nbformat_minor": 2
}
